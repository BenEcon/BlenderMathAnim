{
 "cells": [
  {
   "cell_type": "markdown",
   "metadata": {},
   "source": [
    "# Lektion 1: For-Schleifen und Arrays\n",
    "For-Schleifen und Arrays sind perfekt auf einander abgestimmte Elemente der Programmiersprache. Es gibt prinzipiell zwei Arten einer For-Schleife, die in den folgenden Beispielen gegenübergestellt werden:\n",
    "* Eine direkte Schleife über die Elemente des Feldes\n",
    "* Eine indirekte Schleife mit Hilfe einer Zählvariable (meistens i oder j oder k)"
   ]
  },
  {
   "cell_type": "code",
   "execution_count": 2,
   "metadata": {},
   "outputs": [
    {
     "name": "stdout",
     "output_type": "stream",
     "text": [
      "Montag\n",
      "Dienstag\n",
      "Mittwoch\n",
      "Donnerstag\n",
      "Freitag\n"
     ]
    }
   ],
   "source": [
    "wochentage = [\"Montag\",\"Dienstag\",\"Mittwoch\",\"Donnerstag\",\"Freitag\"]\n",
    "for tag in wochentage:\n",
    "    print(tag)"
   ]
  },
  {
   "cell_type": "code",
   "execution_count": 11,
   "metadata": {},
   "outputs": [
    {
     "name": "stdout",
     "output_type": "stream",
     "text": [
      "0 Montag\n",
      "1 Dienstag\n",
      "2 Mittwoch\n",
      "3 Donnerstag\n",
      "4 Freitag\n"
     ]
    }
   ],
   "source": [
    "for i in range(0,5,1):\n",
    "    print(i,wochentage[i])"
   ]
  },
  {
   "cell_type": "markdown",
   "metadata": {},
   "source": [
    "Nenne Vor- und Nachteile der jeweiligen direkten und indirekten Schleife:<br>\n",
    "| | direkt | indirekt |\n",
    "| -- | -- | -- |\n",
    "| Vorteile |  |\n",
    "| Nachteile | |"
   ]
  },
  {
   "cell_type": "markdown",
   "metadata": {},
   "source": [
    "Schreibe das folgende Programm in eine direkte For-Schleife um."
   ]
  },
  {
   "cell_type": "code",
   "execution_count": 12,
   "metadata": {},
   "outputs": [
    {
     "name": "stdout",
     "output_type": "stream",
     "text": [
      "[0, 1, 2, 3, 4, 5, 6, 7, 8, 9, 10]\n"
     ]
    }
   ],
   "source": [
    "zahlen = list(range(11))\n",
    "print(zahlen)"
   ]
  },
  {
   "cell_type": "code",
   "execution_count": 13,
   "metadata": {},
   "outputs": [
    {
     "name": "stdout",
     "output_type": "stream",
     "text": [
      "55\n"
     ]
    }
   ],
   "source": [
    "sum = 0\n",
    "for zahl in zahlen:\n",
    "    sum = sum + zahl\n",
    "print(sum)"
   ]
  },
  {
   "cell_type": "markdown",
   "metadata": {},
   "source": [
    "Schreibe das folgende Programm in eine indirekte For-Schleife um."
   ]
  },
  {
   "cell_type": "code",
   "execution_count": 12,
   "metadata": {},
   "outputs": [
    {
     "name": "stdout",
     "output_type": "stream",
     "text": [
      "Planet Nr. 1: Merkur\n",
      "Planet Nr. 2: Venus\n",
      "Planet Nr. 3: Erde\n",
      "Planet Nr. 4: Mars\n",
      "Planet Nr. 5: Jupiter\n",
      "Planet Nr. 6: Saturn\n",
      "Planet Nr. 7: Uranus\n",
      "Planet Nr. 8: Neptun\n"
     ]
    }
   ],
   "source": [
    "planeten = [\"Merkur\",\"Venus\",\"Erde\",\"Mars\",\"Jupiter\",\"Saturn\",\"Uranus\",\"Neptun\"]\n",
    "for i in range(len(planeten)):\n",
    "    print(\"Planet Nr.\",str(i+1)+\":\",planeten[i])"
   ]
  },
  {
   "cell_type": "markdown",
   "metadata": {},
   "source": [
    "Benutze das nachfolgende Feld zahlen, um folgende Tabelle zu erzeugen:\n",
    "| n | $\\sum\\limits_{i=1}^n i$|\n",
    "| -- | -- |\n",
    "| 10 | 55 |\n",
    "| 100 | 5050 |\n",
    "| 1000 | 500500 |\n",
    "| 10000| 50005000 |\n",
    "| 100000 | 5000050000|\n",
    "| 1000000 | 500000500000|"
   ]
  },
  {
   "cell_type": "code",
   "execution_count": 13,
   "metadata": {},
   "outputs": [],
   "source": [
    "zahlen = [10,100,1000,10000,100000,1000000]"
   ]
  },
  {
   "cell_type": "markdown",
   "metadata": {},
   "source": [
    "## Übungen"
   ]
  },
  {
   "cell_type": "markdown",
   "metadata": {},
   "source": [
    "### Aufgabe 1"
   ]
  },
  {
   "cell_type": "markdown",
   "metadata": {},
   "source": [
    "<p>$2^{15} = 32768$ and the sum of its digits is $3 + 2 + 7 + 6 + 8 = 26$.</p>\n",
    "<p>What is the sum of the digits of the number $2^{1000}$?</p>\n",
    "\n",
    "<b> Hinweise:</b>\n",
    "* Um eine Zahl in einen Text umzuwandeln, kann man die str() Funktion benutzen.\n",
    "* Um einen Text in eine Zahl umzuwandeln, kann man die int() Funktion benutzen.\n",
    "* Folgendes Programm kann vielleicht hilfreich sein:"
   ]
  },
  {
   "cell_type": "code",
   "execution_count": 15,
   "metadata": {},
   "outputs": [
    {
     "name": "stdout",
     "output_type": "stream",
     "text": [
      "H\n",
      "a\n",
      "l\n",
      "l\n",
      "o\n",
      " \n",
      "W\n",
      "e\n",
      "l\n",
      "t\n"
     ]
    }
   ],
   "source": [
    "for b in \"Hallo Welt\":\n",
    "    print(b)"
   ]
  },
  {
   "cell_type": "markdown",
   "metadata": {},
   "source": [
    "### Aufgabe 2"
   ]
  },
  {
   "cell_type": "markdown",
   "metadata": {},
   "source": [
    "<p>The sequence of triangle numbers is generated by adding the natural numbers. So the $7$<sup>th</sup> triangle number would be $1 + 2 + 3 + 4 + 5 + 6 + 7 = 28$. The first ten terms would be:\n",
    "$$1, 3, 6, 10, 15, 21, 28, 36, 45, 55, \\dots$$</p>\n",
    "<p>Let us list the factors of the first seven triangle numbers:</p>\n",
    "\\begin{align}\n",
    "\\mathbf 1 &\\colon 1\\\\\n",
    "\\mathbf 3 & \\colon 1,3\\\\\n",
    "\\mathbf 6 &\\colon 1,2,3,6\\\\\n",
    "\\mathbf{10} &\\colon 1,2,5,10\\\\\n",
    "\\mathbf{15} &\\colon 1,3,5,15\\\\\n",
    "\\mathbf{21} &\\colon 1,3,7,21\\\\\n",
    "\\mathbf{28} &\\colon 1,2,4,7,14,28\n",
    "\\end{align}\n",
    "<p>We can see that $28$ is the first triangle number to have over five divisors.</p>\n",
    "<p>What is the value of the first triangle number to have over five hundred divisors?</p>\n"
   ]
  },
  {
   "cell_type": "markdown",
   "metadata": {},
   "source": [
    "### Aufgabe 3"
   ]
  },
  {
   "cell_type": "markdown",
   "metadata": {},
   "source": [
    "<p>$n!$ means $n \\times (n - 1) \\times \\cdots \\times 3 \\times 2 \\times 1$.</p>\n",
    "<p>For example, $10! = 10 \\times 9 \\times \\cdots \\times 3 \\times 2 \\times 1 = 3628800$,<br>and the sum of the digits in the number $10!$ is $3 + 6 + 2 + 8 + 8 + 0 + 0 = 27$.</p>\n",
    "<p>Find the sum of the digits in the number $100!$.</p>"
   ]
  },
  {
   "cell_type": "markdown",
   "metadata": {},
   "source": []
  },
  {
   "cell_type": "code",
   "execution_count": null,
   "metadata": {},
   "outputs": [],
   "source": []
  }
 ],
 "metadata": {
  "kernelspec": {
   "display_name": "Python 3 (ipykernel)",
   "language": "python",
   "name": "python3"
  },
  "language_info": {
   "codemirror_mode": {
    "name": "ipython",
    "version": 3
   },
   "file_extension": ".py",
   "mimetype": "text/x-python",
   "name": "python",
   "nbconvert_exporter": "python",
   "pygments_lexer": "ipython3",
   "version": "3.10.12"
  }
 },
 "nbformat": 4,
 "nbformat_minor": 4
}
